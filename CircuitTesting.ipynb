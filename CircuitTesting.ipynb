{
 "cells": [
  {
   "cell_type": "code",
   "execution_count": null,
   "metadata": {},
   "outputs": [],
   "source": [
    "def format_vector(state_vector, decimal_precision=7):\n",
    "    \"\"\" Format the state vector into a LaTeX formatted string.\n",
    "\n",
    "    Args:\n",
    "        state_vector (list or array): The state vector with complex\n",
    "                                      values e.g. [-1, 2j+1].\n",
    "\n",
    "    Returns:\n",
    "        str: The LaTeX format.\n",
    "    \"\"\"\n",
    "    result = []\n",
    "    epsilon = 1/pow(10, decimal_precision)\n",
    "    bit_length = (len(state_vector) - 1).bit_length()\n",
    "    for index, complex_value in enumerate(state_vector):\n",
    "        has_imag_part = np.round(complex_value.imag, decimal_precision) != 0.0\n",
    "        value = complex_value if has_imag_part else complex_value.real\n",
    "        value_round = np.round(value, decimal_precision)\n",
    "        if np.abs(value_round) < epsilon:\n",
    "            continue\n",
    "\n",
    "        binary_state = '{0:0{1}b}'.format(index, bit_length)\n",
    "        result.append(r'{0:+2g}\\left\\lvert {1}\\right\\rangle '.format(value_round, binary_state))\n",
    "    return ''.join(result)"
   ]
  },
  {
   "cell_type": "code",
   "execution_count": null,
   "metadata": {},
   "outputs": [],
   "source": [
    "def initialise(q_circuit,q_register,initial_state=0,c_register=None):\n",
    "    \"\"\"Initialise quantum circuit `q_circuit` to initial state given as int, \n",
    "       which will be converted to binary and applied as initial state (e.g. 6->|110>)\n",
    "       using Pauli-X gates.\n",
    "       Returns quantum circuit after initialisation.\"\"\"\n",
    "    if c_register: pre_circuit = QuantumCircuit(q_register,c_register)\n",
    "    else:          pre_circuit = QuantumCircuit(q_register)\n",
    "    \n",
    "    state = initial_state\n",
    "    number_of_qubits = q_register.size\n",
    "    for kk in range(number_of_qubits):\n",
    "        if state % 2 == 1:\n",
    "            pre_circuit.x(q_register[kk])\n",
    "        state = state // 2\n",
    "    \n",
    "    pre_circuit.barrier(q)\n",
    "    circuit_total = pre_circuit.compose(qc)\n",
    "    return circuit_total"
   ]
  },
  {
   "cell_type": "code",
   "execution_count": null,
   "metadata": {
    "tags": []
   },
   "outputs": [],
   "source": [
    "def run_circuit(q_circuit,q_register,initial_state='all',c_register=None,shots=1,\n",
    "                backend=BasicAer.get_backend('statevector_simulator')):\n",
    "    \"\"\"Executes circuit gates on register after initialising state. initial_state can be 'all' \n",
    "       for which all n-qubit binary states are evaluated, or an int or list/array of ints \n",
    "       representing states.\"\"\"\n",
    "    number_of_qubits = q_register.size\n",
    "    \n",
    "    if initial_state == 'all':\n",
    "        initial_state = range(2**number_of_qubits)\n",
    "    elif isinstance(initial_state,int):\n",
    "        initial_state = [initial_state]\n",
    "    elif not isinstance(initial_state,(list,np.ndarray)):\n",
    "        warn(f'initial_state must be an int or list/np.ndarray of ints, not {type(initial_state)}')\n",
    "    \n",
    "    results = np.zeros(len(initial_state),dtype=object)\n",
    "    for i,state in enumerate(initial_state):\n",
    "        # Initialise circuit\n",
    "        if c_register: circuit_total = initialise(q_circuit,q_register,state,c_register)\n",
    "        else:          circuit_total = initialise(q_circuit,q_register,state)\n",
    "    \n",
    "        # Circuit execution\n",
    "        job = execute(circuit_total, backend=backend, shots=shots)\n",
    "        results[i] = job.result()\n",
    "\n",
    "        # Output formatting\n",
    "        try:\n",
    "            input_state = r'\\left\\lvert{0:0{1}b}\\right\\rangle'.format(state, number_of_qubits)\n",
    "            output_state = job.result().get_statevector(circuit_total)\n",
    "            latex_text = input_state + r'\\mathrm{transforms\\ to}: ' + format_vector(output_state)\n",
    "            display(Math(latex_text))\n",
    "        except:\n",
    "            pass\n",
    "    \n",
    "    return results,circuit_total"
   ]
  },
  {
   "cell_type": "code",
   "execution_count": null,
   "metadata": {},
   "outputs": [],
   "source": [
    "def state_from_circuit(q_circuit):\n",
    "    # Circuit execution\n",
    "    backend=BasicAer.get_backend('statevector_simulator')\n",
    "    job = execute(q_circuit, backend=backend, shots=1)\n",
    "    results = job.result()\n",
    "\n",
    "    # Output formatting\n",
    "    output_state = job.result().get_statevector(q_circuit)\n",
    "    display(Math(format_vector(output_state)))\n",
    "\n",
    "    return output_state"
   ]
  }
 ],
 "metadata": {
  "kernelspec": {
   "display_name": "Python 3 (ipykernel)",
   "language": "python",
   "name": "python3"
  },
  "language_info": {
   "codemirror_mode": {
    "name": "ipython",
    "version": 3
   },
   "file_extension": ".py",
   "mimetype": "text/x-python",
   "name": "python",
   "nbconvert_exporter": "python",
   "pygments_lexer": "ipython3",
   "version": "3.9.7"
  }
 },
 "nbformat": 4,
 "nbformat_minor": 4
}
