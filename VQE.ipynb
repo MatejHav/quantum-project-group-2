{
 "cells": [
  {
   "cell_type": "code",
   "execution_count": 1,
   "id": "ec0ebcb8-a441-4a43-9219-d66b43f9cadd",
   "metadata": {},
   "outputs": [],
   "source": [
    "# Some standard libraries\n",
    "import numpy as np\n",
    "import matplotlib.pyplot as plt\n",
    "\n",
    "# Libraries for creating, running and visualizing quantum circuits \n",
    "from qiskit import execute, QuantumCircuit, QuantumRegister, ClassicalRegister\n",
    "from qiskit import BasicAer\n",
    "from qiskit.circuit import Parameter\n",
    "from qiskit.compiler import transpile\n",
    "from qiskit.tools.visualization import plot_histogram\n",
    "from IPython.display import display, Math, clear_output\n",
    "\n",
    "# Libraries for using Quantum Inspire\n",
    "from quantuminspire.credentials import get_authentication\n",
    "from quantuminspire.api import QuantumInspireAPI\n",
    "from quantuminspire.qiskit import QI\n",
    "from os import getenv\n",
    "QI_URL = getenv('API_URL', 'https://api.quantum-inspire.com/')\n",
    "\n",
    "%run CircuitTesting.ipynb"
   ]
  },
  {
   "cell_type": "markdown",
   "id": "3a82b601-baa9-4722-8560-ef98928dacf3",
   "metadata": {
    "jp-MarkdownHeadingCollapsed": true,
    "tags": []
   },
   "source": [
    "## Circuit"
   ]
  },
  {
   "cell_type": "code",
   "execution_count": 2,
   "id": "db645a30-cac4-4b9b-9437-39014f1cf287",
   "metadata": {},
   "outputs": [
    {
     "data": {
      "image/png": "[encoded data removed]",
      "text/plain": [
       "<Figure size 688.452x204.68 with 1 Axes>"
      ]
     },
     "metadata": {},
     "output_type": "display_data"
    }
   ],
   "source": [
    "# Initialsiation of circuit\n",
    "n = 2                        # number of qubits\n",
    "N = 2**n                     # number of possible (classical) states\n",
    "q = QuantumRegister(n,'q')   # quantum register of n qubits\n",
    "c = ClassicalRegister(n,'c') # classical register of 1 bit\n",
    "qc = QuantumCircuit(q,c)     # quantum circuit on register\n",
    "\n",
    "theta = Parameter('θ') # create a variable for the z-rotation gate\n",
    "\n",
    "# Gates\n",
    "def circuit(qc,q):\n",
    "    qc.rx(3*np.pi/2,q[0])  #-X(pi/2) gate\n",
    "    qc.ry(np.pi/2,q[1])    # Y(pi/2) gate\n",
    "    qc.cnot(q[1],q[0])     # CNOT 1->0\n",
    "    qc.rz(theta,q[0])      # Z(theta) gate with theta suggested by classical optimizer\n",
    "    qc.cnot(q[1],q[0])     # CNOT 1->0\n",
    "    qc.ry(-3*np.pi/2,q[1]) #-Y(pi/2) gate\n",
    "    qc.rx(np.pi/2,q[0])    # X(pi/2) gate\n",
    "    \n",
    "# Apply gates to circuit\n",
    "circuit(qc,q)\n",
    "qc.barrier(q)\n",
    "qc.measure(q,c)\n",
    "qc = initialise(qc,q,1,c)\n",
    "display(qc.draw(output='mpl')) # draw circuit using output method matplotlib"
   ]
  },
  {
   "cell_type": "code",
   "execution_count": 3,
   "id": "0ab39e0d-be6d-4c40-b704-546cae63d244",
   "metadata": {},
   "outputs": [],
   "source": [
    "N = 40\n",
    "theta_range = np.linspace(0,2*np.pi,N)\n",
    "circuits = [qc.bind_parameters({theta: theta_val}) for theta_val in theta_range]\n",
    "\n",
    "backend = BasicAer.get_backend('qasm_simulator')\n",
    "job = backend.run(transpile(circuits, backend))\n",
    "counts = job.result().get_counts()"
   ]
  },
  {
   "cell_type": "code",
   "execution_count": 4,
   "id": "323b0a25-e8f6-4b60-96c5-c08997a5050e",
   "metadata": {},
   "outputs": [
    {
     "data": {
      "image/png": "[encoded data removed]",
      "text/plain": [
       "<Figure size 648x432 with 1 Axes>"
      ]
     },
     "metadata": {},
     "output_type": "display_data"
    }
   ],
   "source": [
    "R = np.linspace(0,1,N)\n",
    "G = np.zeros(N)\n",
    "B = np.linspace(1,0,N)\n",
    "cmap = [(r,g,b) for r,g,b in zip(R,G,B)]\n",
    "\n",
    "fig = plot_histogram(counts,figsize=(9,6),color=cmap,bar_labels=False)\n",
    "fig.patch.set_facecolor('white')\n",
    "display(fig)"
   ]
  },
  {
   "cell_type": "markdown",
   "id": "e5b6c09a-107f-4ab1-963d-ff375dbf40e9",
   "metadata": {
    "tags": []
   },
   "source": [
    "## Hamiltonian using Qiskit (PyQuante2 driver)"
   ]
  },
  {
   "cell_type": "markdown",
   "id": "d1708162-4b82-4e07-a023-f2dd84b74607",
   "metadata": {
    "jp-MarkdownHeadingCollapsed": true,
    "tags": []
   },
   "source": [
    "##### Import modules"
   ]
  },
  {
   "cell_type": "markdown",
   "id": "56e20a4c-28e7-4a30-bb58-18d8561fd391",
   "metadata": {},
   "source": [
    "- `Molecule`: used to create a molecule instance storing all relevant data\n",
    "- `ElectronicStructureDriverType`: used to specify the driver used in calculations\n",
    "- `ElectronicStructureMoleculeDriver`: Molecule based electronic structure driver\n",
    "- `ElectronicStructureProblem`: generates electronic structure problem which we want to solve\n",
    "- `QubitConverter`: converts hamiltonian from second-quantized to qubit (spin) operators\n",
    "- `...Mapper`: used by `QubitConverter` to map fermionic operators to qubit operators\n",
    "\n",
    "- `settings.dict_aux_operators=True` sets `ElectronicStructureProblem` output to dict instead of list"
   ]
  },
  {
   "cell_type": "code",
   "execution_count": 5,
   "id": "bb14d763-de62-4a9a-a7fc-9364ca96586e",
   "metadata": {
    "tags": []
   },
   "outputs": [],
   "source": [
    "from qiskit_nature.drivers import Molecule\n",
    "from qiskit_nature.drivers.second_quantization import (\n",
    "    ElectronicStructureDriverType,\n",
    "    ElectronicStructureMoleculeDriver,\n",
    ")\n",
    "\n",
    "from qiskit_nature.problems.second_quantization import ElectronicStructureProblem\n",
    "from qiskit_nature.converters.second_quantization import QubitConverter\n",
    "from qiskit_nature.mappers.second_quantization import JordanWignerMapper, ParityMapper, BravyiKitaevMapper\n",
    "from qiskit_nature import settings\n",
    "settings.dict_aux_operators = True"
   ]
  },
  {
   "cell_type": "markdown",
   "id": "a3c56ceb-6418-4869-8a13-7e6bd6443818",
   "metadata": {
    "tags": []
   },
   "source": [
    "##### Create molecule and driver"
   ]
  },
  {
   "cell_type": "markdown",
   "id": "3a5fde7a-c0dc-4449-9f45-11a922889ab0",
   "metadata": {
    "tags": []
   },
   "source": [
    "The geometry of the hydrogen molecule is given as a linear array of 2 hydrogen atoms with a spacing on the z-axis of $0.7414$ Å ($=7.414\\cdot10^{-12}$ m). Hydrogen molecules are electrically neutral, so charge $Q=0$ C. Spin multiplicity is defined as $2S+1$, here we assume the singlet state with $S=0$*."
   ]
  },
  {
   "cell_type": "code",
   "execution_count": 6,
   "id": "2d2e9d16-d7c7-46df-bb00-4a40a61e902a",
   "metadata": {},
   "outputs": [],
   "source": [
    "molecule = Molecule(\n",
    "    geometry=[[\"H\", [0.0, 0.0, 0.0]], [\"H\", [0.0, 0.0, 0.7414]]], charge=0, multiplicity=1\n",
    ")\n",
    "driver = ElectronicStructureMoleculeDriver(\n",
    "    molecule, basis=\"sto3g\", driver_type=ElectronicStructureDriverType.PYQUANTE\n",
    ")"
   ]
  },
  {
   "cell_type": "markdown",
   "id": "8efaf545-d859-4c64-882f-a2626d2947df",
   "metadata": {
    "jp-MarkdownHeadingCollapsed": true,
    "tags": []
   },
   "source": [
    "###### The spin of a Hydrogen molecule consists of the nuclear spins of both protons ($s=1/2$). The electron spins cancle because they need to be opposite to create a covalent bond between the two atoms. The nuclear spins can be either aligned, forming a triplet state called orthohydrogen with $S=1$, or anti-aligned, forming a singlet state called parahydrogen with $S=0$. At room temperature hydrogen consists for about 25% of parahydrogen. parahydrogen is in a lower energy state than orthohydrogen and since we are searching for the ground state, we use this $S=0$ state."
   ]
  },
  {
   "cell_type": "markdown",
   "id": "666790ba-ec84-4442-826d-7aad57e332f4",
   "metadata": {
    "jp-MarkdownHeadingCollapsed": true,
    "tags": []
   },
   "source": [
    "##### Create electronic structure problem and return second-quantized operators"
   ]
  },
  {
   "cell_type": "code",
   "execution_count": 7,
   "id": "cad4bac5-556e-4b41-a47a-bd8fbf1c63b4",
   "metadata": {},
   "outputs": [
    {
     "name": "stdout",
     "output_type": "stream",
     "text": [
      "Fermionic Operator\n",
      "register length=4, number terms=14\n",
      "  (0.18128881027902402+0j) * ( +_0 -_1 +_2 -_3 )\n",
      "+ (-0.181288810279024+0j) * ( +_0 -_1 -_2 +_3 )\n",
      "+ (-0.181288810279024+0j) * ( -_0 +_1 +_2 -_3 )\n",
      "+ (0.181288810279024+0j) * ( -_0 +_1 -_2 +_3 )\n",
      "+ (- ...\n"
     ]
    }
   ],
   "source": [
    "es_problem = ElectronicStructureProblem(driver)\n",
    "second_q_op = es_problem.second_q_ops()\n",
    "print(second_q_op['ElectronicEnergy'])"
   ]
  },
  {
   "cell_type": "markdown",
   "id": "b96eb565-17c1-4203-a9e7-284dbc7e64a2",
   "metadata": {
    "jp-MarkdownHeadingCollapsed": true,
    "tags": []
   },
   "source": [
    "##### Convert second-quantized to spin/qubit operators using Jordan Wigner transformation"
   ]
  },
  {
   "cell_type": "code",
   "execution_count": 8,
   "id": "aab3473b-7a14-4abf-9dc1-8aca35328ed3",
   "metadata": {},
   "outputs": [
    {
     "name": "stdout",
     "output_type": "stream",
     "text": [
      "-0.812617980644367 * IIII\n",
      "- 0.22278593632540375 * ZIII\n",
      "+ 0.17119775959783234 * IZII\n",
      "+ 0.12054482271376402 * ZZII\n",
      "- 0.22278593632540372 * IIZI\n",
      "+ 0.17434844455135634 * ZIZI\n",
      "+ 0.16586702528352001 * IZZI\n",
      "+ 0.17119775959783218 * IIIZ\n",
      "+ 0.16586702528352001 * ZIIZ\n",
      "+ 0.1686221935535855 * IZIZ\n",
      "+ 0.12054482271376402 * IIZZ\n",
      "+ 0.045322202569756 * XXXX\n",
      "+ 0.045322202569756 * YYXX\n",
      "+ 0.045322202569756 * XXYY\n",
      "+ 0.045322202569756 * YYYY\n"
     ]
    }
   ],
   "source": [
    "qubit_converter = QubitConverter(mapper=JordanWignerMapper(), two_qubit_reduction=True)\n",
    "qubit_op = qubit_converter.convert(second_q_op['ElectronicEnergy'])\n",
    "print(qubit_op)"
   ]
  },
  {
   "cell_type": "markdown",
   "id": "59972ad1-5520-491a-a3d7-49b7c092f035",
   "metadata": {
    "jp-MarkdownHeadingCollapsed": true,
    "tags": []
   },
   "source": [
    "##### Convert second-quantized to spin/qubit operators using Bravyi-Kitaev transformation"
   ]
  },
  {
   "cell_type": "code",
   "execution_count": 9,
   "id": "9d995d60-eb5a-438c-846b-99931883387e",
   "metadata": {},
   "outputs": [
    {
     "name": "stdout",
     "output_type": "stream",
     "text": [
      "-0.812617980644367 * IIII\n",
      "+ 0.17119775959783234 * IZII\n",
      "+ 0.12054482271376402 * IIZI\n",
      "+ 0.12054482271376402 * ZIZI\n",
      "- 0.22278593632540375 * ZZZI\n",
      "+ 0.17119775959783218 * IIIZ\n",
      "+ 0.1686221935535855 * IZIZ\n",
      "+ 0.17434844455135634 * ZZIZ\n",
      "- 0.22278593632540372 * IIZZ\n",
      "+ 0.16586702528352001 * IZZZ\n",
      "+ 0.16586702528352001 * ZZZZ\n",
      "+ 0.045322202569756 * IXIX\n",
      "+ 0.045322202569756 * ZXIX\n",
      "- 0.045322202569756 * IXZX\n",
      "- 0.045322202569756 * ZXZX\n"
     ]
    }
   ],
   "source": [
    "qubit_converter = QubitConverter(mapper=BravyiKitaevMapper(), two_qubit_reduction=True)\n",
    "qubit_op = qubit_converter.convert(second_q_op['ElectronicEnergy'])\n",
    "print(qubit_op)"
   ]
  },
  {
   "cell_type": "markdown",
   "id": "b4040ba9-f156-49f6-a0bd-2cb1d6624d38",
   "metadata": {
    "tags": []
   },
   "source": [
    "##### Convert second-quantized to spin/qubit operators using Parity mapper, which uses known symmetries to reduce the problem to 2 qubits"
   ]
  },
  {
   "cell_type": "code",
   "execution_count": 10,
   "id": "ec6c3e0b-ac08-4208-8765-9a797725a7e5",
   "metadata": {},
   "outputs": [
    {
     "name": "stdout",
     "output_type": "stream",
     "text": [
      "-1.0537076260718947 * II\n",
      "+ (-0.39398369592323595-1.3877787807814457e-17j) * ZI\n",
      "+ (0.3939836959232358-4.163336342344337e-17j) * IZ\n",
      "- 0.011236587537901799 * ZZ\n",
      "+ 0.18128881027902394 * XX\n"
     ]
    }
   ],
   "source": [
    "qubit_converter = QubitConverter(mapper=ParityMapper(), two_qubit_reduction=True)\n",
    "qubit_op = qubit_converter.convert(second_q_op['ElectronicEnergy'], num_particles=es_problem.num_particles)\n",
    "print(qubit_op)"
   ]
  },
  {
   "cell_type": "markdown",
   "id": "e02f240e-4e3e-4d65-b63d-e6c0334c9b54",
   "metadata": {
    "tags": []
   },
   "source": [
    "## Expectation values $\\langle H(\\theta) \\rangle$"
   ]
  },
  {
   "cell_type": "code",
   "execution_count": null,
   "id": "8a15e6ab-9af2-4aba-987e-52389ff05be9",
   "metadata": {},
   "outputs": [],
   "source": []
  },
  {
   "cell_type": "markdown",
   "id": "36abed7a-cb34-4568-8971-8d81d519a1a5",
   "metadata": {
    "tags": []
   },
   "source": [
    "## Ground state solver using VQE"
   ]
  },
  {
   "cell_type": "code",
   "execution_count": null,
   "id": "27a2be66-ed25-48ca-b511-a6879b3f5b0d",
   "metadata": {},
   "outputs": [],
   "source": []
  }
 ],
 "metadata": {
  "kernelspec": {
   "display_name": "Python 3 (ipykernel)",
   "language": "python",
   "name": "python3"
  },
  "language_info": {
   "codemirror_mode": {
    "name": "ipython",
    "version": 3
   },
   "file_extension": ".py",
   "mimetype": "text/x-python",
   "name": "python",
   "nbconvert_exporter": "python",
   "pygments_lexer": "ipython3",
   "version": "3.9.7"
  }
 },
 "nbformat": 4,
 "nbformat_minor": 5
}
