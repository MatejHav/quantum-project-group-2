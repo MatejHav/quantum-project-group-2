{
 "cells": [
  {
   "cell_type": "code",
   "execution_count": 1,
   "id": "ec0ebcb8-a441-4a43-9219-d66b43f9cadd",
   "metadata": {},
   "outputs": [],
   "source": [
    "# Some standard libraries\n",
    "import numpy as np\n",
    "import matplotlib.pyplot as plt\n",
    "\n",
    "# Libraries for creating, running and visualizing quantum circuits \n",
    "from qiskit import execute, QuantumCircuit, QuantumRegister, ClassicalRegister\n",
    "from qiskit import BasicAer\n",
    "from qiskit.circuit import Parameter\n",
    "from qiskit.compiler import transpile\n",
    "from qiskit.tools.visualization import plot_histogram\n",
    "from IPython.display import display, Math, clear_output\n",
    "\n",
    "# Libraries for using Quantum Inspire\n",
    "from quantuminspire.credentials import get_authentication\n",
    "from quantuminspire.api import QuantumInspireAPI\n",
    "from quantuminspire.qiskit import QI\n",
    "from os import getenv\n",
    "QI_URL = getenv('API_URL', 'https://api.quantum-inspire.com/')\n",
    "\n",
    "#%run CircuitTesting.ipynb"
   ]
  },
  {
   "cell_type": "markdown",
   "id": "3a82b601-baa9-4722-8560-ef98928dacf3",
   "metadata": {
    "jp-MarkdownHeadingCollapsed": true,
    "tags": []
   },
   "source": [
    "## Circuit"
   ]
  },
  {
   "cell_type": "code",
   "execution_count": 2,
   "id": "db645a30-cac4-4b9b-9437-39014f1cf287",
   "metadata": {},
   "outputs": [],
   "source": [
    "# Gates\n",
    "def circuit(theta, qcx, qcy, qcz, qx, qy, qz, cx, cy, cz):\n",
    "    # X-axis\n",
    "    qcx.initialize([1, 0],0)\n",
    "    qcx.initialize([0, 1],1)\n",
    "    qcx.rx(-3*np.pi/2,qx[0])  #-X(pi/2) gate\n",
    "    qcx.ry(np.pi/2,qx[1])    # Y(pi/2) gate\n",
    "    qcx.cnot(qx[1],qx[0])     # CNOT 1->0\n",
    "    qcx.rz(theta,qx[0])      # Z(theta) gate with theta suggested by classical optimizer\n",
    "    qcx.cnot(qx[1],qx[0])     # CNOT 1->0\n",
    "    qcx.ry(-3*np.pi/2,qx[1]) #-Y(pi/2) gate\n",
    "    qcx.rx(np.pi/2,qx[0])    # X(pi/2) gate\n",
    "    qcx.ry(np.pi/2,qx[0])\n",
    "    qcx.ry(-np.pi/2,qx[1])\n",
    "    qcx.barrier(qx)\n",
    "    qcx.measure(qx,cx)\n",
    "    # Y-axis\n",
    "    qcy.initialize([1, 0],0)\n",
    "    qcy.initialize([0, 1],1)\n",
    "    qcy.rx(-3*np.pi/2,qy[0])  #-X(pi/2) gate\n",
    "    qcy.ry(np.pi/2,qy[1])    # Y(pi/2) gate\n",
    "    qcy.cnot(qy[1],qy[0])     # CNOT 1->0\n",
    "    qcy.rz(theta,qy[0])      # Z(theta) gate with theta suggested by classical optimizer\n",
    "    qcy.cnot(qy[1],qy[0])     # CNOT 1->0\n",
    "    qcy.ry(-3*np.pi/2,qy[1]) #-Y(pi/2) gate\n",
    "    qcy.rx(np.pi/2,qy[0])    # X(pi/2) gate\n",
    "    qcy.rx(np.pi/2,qy[0])\n",
    "    qcy.rx(-np.pi/2,qy[1])\n",
    "    qcy.barrier(qy)\n",
    "    qcy.measure(qy,cy)\n",
    "    # Z-axis\n",
    "    qcz.initialize([1, 0],1)\n",
    "    qcz.initialize([0, 1],0)\n",
    "    qcz.rx(-3*np.pi/2,qz[0])  #-X(pi/2) gate\n",
    "    qcz.ry(np.pi/2,qz[1])    # Y(pi/2) gate\n",
    "    qcz.cnot(qz[1],qz[0])     # CNOT 1->0\n",
    "    qcz.rz(theta,qz[0])      # Z(theta) gate with theta suggested by classical optimizer\n",
    "    qcz.cnot(qz[1],qz[0])     # CNOT 1->0\n",
    "    qcz.ry(-3*np.pi/2,qz[1]) #-Y(pi/2) gate\n",
    "    qcz.rx(np.pi/2,qz[0])    # X(pi/2) gate\n",
    "    qcz.barrier(qz)\n",
    "    qcz.measure(qz,cz)\n",
    "    \n",
    "# Apply gates to circuit\n",
    "#circuit(qcx, qcy, qcz, qx, qy, qz)\n",
    "#display(qcx.draw(output='mpl')) # draw circuit using output method matplotlib\n",
    "#display(qcy.draw(output='mpl')) # draw circuit using output method matplotlib\n",
    "#display(qcz.draw(output='mpl')) # draw circuit using output method matplotlib"
   ]
  },
  {
   "cell_type": "code",
   "execution_count": 3,
   "id": "0ab39e0d-be6d-4c40-b704-546cae63d244",
   "metadata": {},
   "outputs": [],
   "source": [
    "def create_probabilities(state_distribution):\n",
    "    return state_distribution / np.sum(state_distribution)\n",
    "\n",
    "def run_simulation(qcx, qcy, qcz ,qx, qy, qz, cx, cy, cz, r):\n",
    "    theta = Parameter('θ') # create a variable for the z-rotation gate\n",
    "    circuit(theta, qcx, qcy, qcz ,qx, qy, qz, cx, cy, cz)\n",
    "    theta_range = np.linspace(0,2*np.pi,r)\n",
    "    circuitsX = [qcx.bind_parameters({theta: theta_val}) for theta_val in theta_range]\n",
    "    circuitsY = [qcy.bind_parameters({theta: theta_val}) for theta_val in theta_range]\n",
    "    circuitsZ = [qcz.bind_parameters({theta: theta_val}) for theta_val in theta_range]\n",
    "\n",
    "    backend = BasicAer.get_backend('qasm_simulator')\n",
    "    job = backend.run(transpile(circuitsX, backend))\n",
    "    countsX = job.result().get_counts()\n",
    "    probabilitiesX = []\n",
    "    for res in job.result().results:\n",
    "        local_count = res.data.counts\n",
    "        distribution = np.zeros(4)\n",
    "        for key in local_count:\n",
    "            distribution[int(key, 16)] += local_count[key]\n",
    "        probabilitiesX.append(create_probabilities(distribution))\n",
    "    \n",
    "    job = backend.run(transpile(circuitsY, backend))\n",
    "    countsY = job.result().get_counts()\n",
    "    probabilitiesY = []\n",
    "    for res in job.result().results:\n",
    "        local_count = res.data.counts\n",
    "        distribution = np.zeros(4)\n",
    "        for key in local_count:\n",
    "            distribution[int(key, 16)] += local_count[key]\n",
    "        probabilitiesY.append(create_probabilities(distribution))\n",
    "    \n",
    "    job = backend.run(transpile(circuitsZ, backend))\n",
    "    countsZ = job.result().get_counts()\n",
    "    probabilitiesZ = []\n",
    "    for res in job.result().results:\n",
    "        local_count = res.data.counts\n",
    "        distribution = np.zeros(4)\n",
    "        for key in local_count:\n",
    "            distribution[int(key, 16)] += local_count[key]\n",
    "        probabilitiesZ.append(create_probabilities(distribution))\n",
    "    return [countsX, countsY, countsZ], [probabilitiesX, probabilitiesY, probabilitiesZ]\n",
    "\n",
    "# ZI = |a|^2 + |b|^2 - |c|^2 - |d|^2\n",
    "def zi(prob):\n",
    "    return prob[0] + prob[1] - prob[2] - prob[3]\n",
    "\n",
    "# IZ = |a|^2 - |b|^2 + |c|^2 - |d|^2\n",
    "def iz(prob):\n",
    "    return prob[0] - prob[1] + prob[2] - prob[3]\n",
    "\n",
    "def compute_prob(prob):\n",
    "    return prob[0] - prob[1] - prob[2] + prob[3]\n",
    "\n",
    "def get_counts_and_probabilities(shots=40):\n",
    "    # Initialsiation of circuit\n",
    "    n = 2                        # number of qubits\n",
    "    N = 2**n                     # number of possible (classical) states\n",
    "    qx = QuantumRegister(n,'q')   # quantum register of n qubits\n",
    "    qy = QuantumRegister(n,'q')   # quantum register of n qubits\n",
    "    qz = QuantumRegister(n,'q')   # quantum register of n qubits\n",
    "    cx = ClassicalRegister(n,'c') # classical register of 1 bit\n",
    "    cy = ClassicalRegister(n,'c') # classical register of 1 bit\n",
    "    cz = ClassicalRegister(n,'c') # classical register of 1 bit\n",
    "    qcx = QuantumCircuit(qx,cx)     # quantum circuit on register\n",
    "    qcy = QuantumCircuit(qy,cy)     # quantum circuit on register\n",
    "    qcz = QuantumCircuit(qz,cz)     # quantum circuit on register\n",
    "    counts, probabilities = run_simulation(qcx, qcy, qcz ,qx, qy, qz, cx, cy, cz, shots)\n",
    "    return counts, probabilities"
   ]
  },
  {
   "cell_type": "code",
   "execution_count": 4,
   "id": "323b0a25-e8f6-4b60-96c5-c08997a5050e",
   "metadata": {},
   "outputs": [
    {
     "data": {
      "image/png": "[encoded data removed]",
      "text/plain": [
       "<Figure size 648x432 with 1 Axes>"
      ]
     },
     "metadata": {},
     "output_type": "display_data"
    }
   ],
   "source": [
    "shots = 50\n",
    "counts, probabilities = get_counts_and_probabilities(shots)\n",
    "R = np.linspace(0,1,shots)\n",
    "G = np.zeros(shots)\n",
    "B = np.linspace(1,0,shots)\n",
    "cmap = [(r,g,b) for r,g,b in zip(R,G,B)]\n",
    "\n",
    "fig = plot_histogram(counts[2],figsize=(9,6),color=cmap,bar_labels=False)\n",
    "fig.patch.set_facecolor('white')\n",
    "display(fig)"
   ]
  },
  {
   "cell_type": "markdown",
   "id": "e5b6c09a-107f-4ab1-963d-ff375dbf40e9",
   "metadata": {
    "tags": []
   },
   "source": [
    "## Hamiltonian using Qiskit (PyQuante2 driver)"
   ]
  },
  {
   "cell_type": "markdown",
   "id": "d1708162-4b82-4e07-a023-f2dd84b74607",
   "metadata": {
    "jp-MarkdownHeadingCollapsed": true,
    "tags": []
   },
   "source": [
    "##### Import modules"
   ]
  },
  {
   "cell_type": "markdown",
   "id": "56e20a4c-28e7-4a30-bb58-18d8561fd391",
   "metadata": {},
   "source": [
    "- `Molecule`: used to create a molecule instance storing all relevant data\n",
    "- `ElectronicStructureDriverType`: used to specify the driver used in calculations\n",
    "- `ElectronicStructureMoleculeDriver`: Molecule based electronic structure driver\n",
    "- `ElectronicStructureProblem`: generates electronic structure problem which we want to solve\n",
    "- `QubitConverter`: converts hamiltonian from second-quantized to qubit (spin) operators\n",
    "- `...Mapper`: used by `QubitConverter` to map fermionic operators to qubit operators\n",
    "\n",
    "- `settings.dict_aux_operators=True` sets `ElectronicStructureProblem` output to dict instead of list"
   ]
  },
  {
   "cell_type": "code",
   "execution_count": 5,
   "id": "bb14d763-de62-4a9a-a7fc-9364ca96586e",
   "metadata": {
    "tags": []
   },
   "outputs": [],
   "source": [
    "from qiskit_nature.drivers import Molecule\n",
    "from qiskit_nature.drivers.second_quantization import (\n",
    "    ElectronicStructureDriverType,\n",
    "    ElectronicStructureMoleculeDriver,\n",
    ")\n",
    "\n",
    "from qiskit_nature.problems.second_quantization import ElectronicStructureProblem\n",
    "from qiskit_nature.converters.second_quantization import QubitConverter\n",
    "from qiskit_nature.mappers.second_quantization import JordanWignerMapper, ParityMapper, BravyiKitaevMapper\n",
    "from qiskit_nature import settings\n",
    "settings.dict_aux_operators = True"
   ]
  },
  {
   "cell_type": "markdown",
   "id": "a3c56ceb-6418-4869-8a13-7e6bd6443818",
   "metadata": {
    "tags": []
   },
   "source": [
    "##### Create molecule and driver"
   ]
  },
  {
   "cell_type": "markdown",
   "id": "3a5fde7a-c0dc-4449-9f45-11a922889ab0",
   "metadata": {
    "tags": []
   },
   "source": [
    "The geometry of the hydrogen molecule is given as a linear array of 2 hydrogen atoms with a spacing on the z-axis of $0.7414$ Å ($=7.414\\cdot10^{-12}$ m). Hydrogen molecules are electrically neutral, so charge $Q=0$ C. Spin multiplicity is defined as $2S+1$, here we assume the singlet state with $S=0$*."
   ]
  },
  {
   "cell_type": "code",
   "execution_count": 6,
   "id": "2d2e9d16-d7c7-46df-bb00-4a40a61e902a",
   "metadata": {},
   "outputs": [],
   "source": [
    "molecule = Molecule(\n",
    "    geometry=[[\"H\", [0.0, 0.0, 0.0]], [\"H\", [0.0, 0.0, 0.7414]]], charge=0, multiplicity=1\n",
    ")\n",
    "driver = ElectronicStructureMoleculeDriver(\n",
    "    molecule, basis=\"sto3g\", driver_type=ElectronicStructureDriverType.PYQUANTE\n",
    ")"
   ]
  },
  {
   "cell_type": "markdown",
   "id": "8efaf545-d859-4c64-882f-a2626d2947df",
   "metadata": {
    "jp-MarkdownHeadingCollapsed": true,
    "tags": []
   },
   "source": [
    "###### The spin of a Hydrogen molecule consists of the nuclear spins of both protons ($s=1/2$). The electron spins cancle because they need to be opposite to create a covalent bond between the two atoms. The nuclear spins can be either aligned, forming a triplet state called orthohydrogen with $S=1$, or anti-aligned, forming a singlet state called parahydrogen with $S=0$. At room temperature hydrogen consists for about 25% of parahydrogen. parahydrogen is in a lower energy state than orthohydrogen and since we are searching for the ground state, we use this $S=0$ state."
   ]
  },
  {
   "cell_type": "markdown",
   "id": "666790ba-ec84-4442-826d-7aad57e332f4",
   "metadata": {
    "jp-MarkdownHeadingCollapsed": true,
    "tags": []
   },
   "source": [
    "##### Create electronic structure problem and return second-quantized operators"
   ]
  },
  {
   "cell_type": "code",
   "execution_count": 7,
   "id": "cad4bac5-556e-4b41-a47a-bd8fbf1c63b4",
   "metadata": {},
   "outputs": [
    {
     "name": "stdout",
     "output_type": "stream",
     "text": [
      "Fermionic Operator\n",
      "register length=4, number terms=14\n",
      "  (0.18128881027902397+0j) * ( +_0 -_1 +_2 -_3 )\n",
      "+ (-0.181288810279024+0j) * ( +_0 -_1 -_2 +_3 )\n",
      "+ (-0.181288810279024+0j) * ( -_0 +_1 +_2 -_3 )\n",
      "+ (0.18128881027902402+0j) * ( -_0 +_1 -_2 +_3 )\n",
      "+  ...\n"
     ]
    }
   ],
   "source": [
    "es_problem = ElectronicStructureProblem(driver)\n",
    "second_q_op = es_problem.second_q_ops()\n",
    "print(second_q_op['ElectronicEnergy'])"
   ]
  },
  {
   "cell_type": "markdown",
   "id": "b96eb565-17c1-4203-a9e7-284dbc7e64a2",
   "metadata": {
    "jp-MarkdownHeadingCollapsed": true,
    "tags": []
   },
   "source": [
    "##### Convert second-quantized to spin/qubit operators using Jordan Wigner transformation"
   ]
  },
  {
   "cell_type": "code",
   "execution_count": 8,
   "id": "aab3473b-7a14-4abf-9dc1-8aca35328ed3",
   "metadata": {},
   "outputs": [
    {
     "name": "stdout",
     "output_type": "stream",
     "text": [
      "-0.8126179806443667 * IIII\n",
      "- 0.22278593632540367 * ZIII\n",
      "+ 0.17119775959783223 * IZII\n",
      "+ 0.120544822713764 * ZZII\n",
      "- 0.22278593632540364 * IIZI\n",
      "+ 0.17434844455135626 * ZIZI\n",
      "+ 0.16586702528352001 * IZZI\n",
      "+ 0.17119775959783207 * IIIZ\n",
      "+ 0.16586702528352001 * ZIIZ\n",
      "+ 0.1686221935535854 * IZIZ\n",
      "+ 0.120544822713764 * IIZZ\n",
      "+ 0.045322202569756 * XXXX\n",
      "+ 0.045322202569756 * YYXX\n",
      "+ 0.045322202569756 * XXYY\n",
      "+ 0.045322202569756 * YYYY\n"
     ]
    },
    {
     "name": "stderr",
     "output_type": "stream",
     "text": [
      "C:\\Users\\Matej\\anaconda3\\lib\\site-packages\\ipykernel\\ipkernel.py:287: DeprecationWarning: `should_run_async` will not call `transform_cell` automatically in the future. Please pass the result to `transformed_cell` argument and any exception that happen during thetransform in `preprocessing_exc_tuple` in IPython 7.17 and above.\n",
      "  and should_run_async(code)\n"
     ]
    }
   ],
   "source": [
    "qubit_converter = QubitConverter(mapper=JordanWignerMapper(), two_qubit_reduction=True)\n",
    "qubit_op = qubit_converter.convert(second_q_op['ElectronicEnergy'])\n",
    "print(qubit_op)"
   ]
  },
  {
   "cell_type": "markdown",
   "id": "59972ad1-5520-491a-a3d7-49b7c092f035",
   "metadata": {
    "jp-MarkdownHeadingCollapsed": true,
    "tags": []
   },
   "source": [
    "##### Convert second-quantized to spin/qubit operators using Bravyi-Kitaev transformation"
   ]
  },
  {
   "cell_type": "code",
   "execution_count": 9,
   "id": "9d995d60-eb5a-438c-846b-99931883387e",
   "metadata": {},
   "outputs": [
    {
     "name": "stdout",
     "output_type": "stream",
     "text": [
      "-0.8126179806443667 * IIII\n",
      "+ 0.17119775959783223 * IZII\n",
      "+ 0.120544822713764 * IIZI\n",
      "+ 0.120544822713764 * ZIZI\n",
      "- 0.22278593632540367 * ZZZI\n",
      "+ 0.17119775959783207 * IIIZ\n",
      "+ 0.1686221935535854 * IZIZ\n",
      "+ 0.17434844455135626 * ZZIZ\n",
      "- 0.22278593632540364 * IIZZ\n",
      "+ 0.16586702528352001 * IZZZ\n",
      "+ 0.16586702528352001 * ZZZZ\n",
      "+ 0.045322202569756 * IXIX\n",
      "+ 0.045322202569756 * ZXIX\n",
      "- 0.045322202569756 * IXZX\n",
      "- 0.045322202569756 * ZXZX\n"
     ]
    }
   ],
   "source": [
    "qubit_converter = QubitConverter(mapper=BravyiKitaevMapper(), two_qubit_reduction=True)\n",
    "qubit_op = qubit_converter.convert(second_q_op['ElectronicEnergy'])\n",
    "print(qubit_op)"
   ]
  },
  {
   "cell_type": "markdown",
   "id": "b4040ba9-f156-49f6-a0bd-2cb1d6624d38",
   "metadata": {
    "tags": []
   },
   "source": [
    "##### Convert second-quantized to spin/qubit operators using Parity mapper, which uses known symmetries to reduce the problem to 2 qubits"
   ]
  },
  {
   "cell_type": "code",
   "execution_count": 10,
   "id": "ec6c3e0b-ac08-4208-8765-9a797725a7e5",
   "metadata": {},
   "outputs": [
    {
     "name": "stdout",
     "output_type": "stream",
     "text": [
      "(-1.0537076260718943+8.326672684688674e-17j) * II\n",
      "+ (-0.39398369592323584+1.3877787807814457e-17j) * ZI\n",
      "+ (0.3939836959232356+1.3877787807814457e-17j) * IZ\n",
      "+ (-0.011236587537901618-1.3877787807814457e-17j) * ZZ\n",
      "+ 0.18128881027902394 * XX\n"
     ]
    }
   ],
   "source": [
    "qubit_converter = QubitConverter(mapper=ParityMapper(), two_qubit_reduction=True)\n",
    "qubit_op = qubit_converter.convert(second_q_op['ElectronicEnergy'], num_particles=es_problem.num_particles)\n",
    "print(qubit_op)"
   ]
  },
  {
   "cell_type": "code",
   "execution_count": 19,
   "id": "7fbe9a5f",
   "metadata": {},
   "outputs": [
    {
     "name": "stderr",
     "output_type": "stream",
     "text": [
      "C:\\Users\\Matej\\anaconda3\\lib\\site-packages\\ipykernel\\ipkernel.py:287: DeprecationWarning: `should_run_async` will not call `transform_cell` automatically in the future. Please pass the result to `transformed_cell` argument and any exception that happen during thetransform in `preprocessing_exc_tuple` in IPython 7.17 and above.\n",
      "  and should_run_async(code)\n"
     ]
    }
   ],
   "source": [
    "def get_coefficients(molecule):\n",
    "    driver = ElectronicStructureMoleculeDriver(\n",
    "        molecule, basis=\"sto3g\", driver_type=ElectronicStructureDriverType.PYQUANTE\n",
    "    )\n",
    "    es_problem = ElectronicStructureProblem(driver)\n",
    "    second_q_op = es_problem.second_q_ops()\n",
    "    qubit_converter = QubitConverter(mapper=ParityMapper(), two_qubit_reduction=True)\n",
    "    qubit_op = qubit_converter.convert(second_q_op['ElectronicEnergy'], num_particles=es_problem.num_particles)\n",
    "    return qubit_op.coeffs"
   ]
  },
  {
   "cell_type": "markdown",
   "id": "e02f240e-4e3e-4d65-b63d-e6c0334c9b54",
   "metadata": {
    "tags": []
   },
   "source": [
    "## Expectation values $\\langle H(\\theta) \\rangle$"
   ]
  },
  {
   "cell_type": "code",
   "execution_count": 20,
   "id": "8a15e6ab-9af2-4aba-987e-52389ff05be9",
   "metadata": {},
   "outputs": [
    {
     "data": {
      "image/png": "[encoded data removed]",
      "text/plain": [
       "<Figure size 432x288 with 1 Axes>"
      ]
     },
     "metadata": {
      "needs_background": "light"
     },
     "output_type": "display_data"
    }
   ],
   "source": [
    "counts, probabilities = get_counts_and_probabilities(40)\n",
    "results = {'iz': [], 'zi': [], 'xx': [], 'yy': [], 'zz': []}\n",
    "theta_range = np.linspace(0,2*np.pi,40)\n",
    "for index, theta in enumerate(theta_range):\n",
    "    exp_zi = zi(probabilities[2][index])\n",
    "    exp_iz = iz(probabilities[2][index])\n",
    "    exp_xx = compute_prob(probabilities[0][index])\n",
    "    exp_yy = compute_prob(probabilities[1][index])\n",
    "    exp_zz = compute_prob(probabilities[2][index])\n",
    "    results['iz'].append(exp_iz)\n",
    "    results['zi'].append(exp_zi)\n",
    "    results['xx'].append(exp_xx)\n",
    "    results['yy'].append(exp_yy)\n",
    "    results['zz'].append(exp_zz)\n",
    "    #data.append(sum(qubit_op.coeffs * np.array([1, exp_zi, exp_iz, exp_zz, exp_xx])))\n",
    "\n",
    "plt.plot(theta_range, results['iz'], label='iz')\n",
    "plt.plot(theta_range, results['zi'], label='zi')\n",
    "plt.plot(theta_range, results['xx'], label='xx')\n",
    "plt.plot(theta_range, results['yy'], label='yy')\n",
    "plt.plot(theta_range, results['zz'], label='zz')\n",
    "plt.legend()\n",
    "plt.show()"
   ]
  },
  {
   "cell_type": "markdown",
   "id": "36abed7a-cb34-4568-8971-8d81d519a1a5",
   "metadata": {
    "tags": []
   },
   "source": [
    "## Ground state solver using VQE"
   ]
  },
  {
   "cell_type": "code",
   "execution_count": 22,
   "id": "27a2be66-ed25-48ca-b511-a6879b3f5b0d",
   "metadata": {},
   "outputs": [
    {
     "name": "stderr",
     "output_type": "stream",
     "text": [
      "C:\\Users\\Matej\\anaconda3\\lib\\site-packages\\ipykernel\\ipkernel.py:287: DeprecationWarning: `should_run_async` will not call `transform_cell` automatically in the future. Please pass the result to `transformed_cell` argument and any exception that happen during thetransform in `preprocessing_exc_tuple` in IPython 7.17 and above.\n",
      "  and should_run_async(code)\n",
      "C:\\Users\\Matej\\anaconda3\\lib\\site-packages\\numpy\\core\\_asarray.py:102: ComplexWarning: Casting complex values to real discards the imaginary part\n",
      "  return array(a, dtype, copy=False, order=order)\n"
     ]
    },
    {
     "data": {
      "image/png": "[encoded data removed]",
      "text/plain": [
       "<Figure size 432x288 with 1 Axes>"
      ]
     },
     "metadata": {
      "needs_background": "light"
     },
     "output_type": "display_data"
    }
   ],
   "source": [
    "def compute_energy(distance, counts, probabilities):\n",
    "    molecule = Molecule(\n",
    "        geometry=[[\"H\", [0.0, 0.0, 0.0]], [\"H\", [0.0, 0.0, distance]]], charge=0, multiplicity=1\n",
    "    )\n",
    "    coefficients = get_coefficients(molecule)\n",
    "    \n",
    "    data = []\n",
    "    for index, theta in enumerate(probabilities[2]):\n",
    "        exp_zi = zi(probabilities[2][index])\n",
    "        exp_iz = iz(probabilities[2][index])\n",
    "        exp_xx = compute_prob(probabilities[0][index])\n",
    "        exp_yy = compute_prob(probabilities[1][index])\n",
    "        exp_zz = compute_prob(probabilities[2][index])\n",
    "        data.append(sum(coefficients * np.array([1, exp_zi, exp_iz, exp_zz, exp_xx])))\n",
    "    return np.mean(data)\n",
    "\n",
    "def vqa():\n",
    "    shots = 50\n",
    "    acc = 20\n",
    "    min_dist = 0.1 \n",
    "    max_dist = 3\n",
    "    distance_range = np.linspace(min_dist, max_dist, acc)\n",
    "    counts, probabilities = get_counts_and_probabilities(shots)\n",
    "    \n",
    "    return [compute_energy(d, counts, probabilities) for d in distance_range], distance_range\n",
    "\n",
    "\n",
    "results, distance_range = vqa()\n",
    "plt.plot(distance_range, results)\n",
    "plt.show()"
   ]
  },
  {
   "cell_type": "code",
   "execution_count": null,
   "id": "8bbd6e9b",
   "metadata": {},
   "outputs": [],
   "source": []
  }
 ],
 "metadata": {
  "kernelspec": {
   "display_name": "Python 3",
   "language": "python",
   "name": "python3"
  },
  "language_info": {
   "codemirror_mode": {
    "name": "ipython",
    "version": 3
   },
   "file_extension": ".py",
   "mimetype": "text/x-python",
   "name": "python",
   "nbconvert_exporter": "python",
   "pygments_lexer": "ipython3",
   "version": "3.8.8"
  },
  "toc": {
   "base_numbering": 1,
   "nav_menu": {},
   "number_sections": true,
   "sideBar": true,
   "skip_h1_title": false,
   "title_cell": "Table of Contents",
   "title_sidebar": "Contents",
   "toc_cell": false,
   "toc_position": {},
   "toc_section_display": true,
   "toc_window_display": false
  }
 },
 "nbformat": 4,
 "nbformat_minor": 5
}
