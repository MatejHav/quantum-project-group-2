{
 "cells": [
  {
   "cell_type": "markdown",
   "id": "871a1690-c91e-4df9-ac66-77c14f59adf6",
   "metadata": {},
   "source": [
    "Run this first one cell once for your computer"
   ]
  },
  {
   "cell_type": "code",
   "execution_count": null,
   "id": "1fdcd342-6a20-4829-9c42-bfb62e91a7b1",
   "metadata": {},
   "outputs": [],
   "source": [
    "from quantuminspire.credentials import save_account\n",
    "save_account('...')"
   ]
  },
  {
   "cell_type": "markdown",
   "id": "0fb26acf-a8d5-484e-a372-febe590c3fa2",
   "metadata": {},
   "source": [
    "---"
   ]
  },
  {
   "cell_type": "code",
   "execution_count": null,
   "id": "b5a33d85-e1c0-49fc-92f7-dc389c0ecf0f",
   "metadata": {},
   "outputs": [],
   "source": [
    "import os\n",
    "from quantuminspire.credentials import get_authentication\n",
    "from quantuminspire.qiskit import QI\n",
    "QI_URL = os.getenv('API_URL', 'https://api.quantum-inspire.com/')"
   ]
  },
  {
   "cell_type": "code",
   "execution_count": 5,
   "id": "cfc26d3f-b82d-4071-ba46-301cc530f171",
   "metadata": {},
   "outputs": [
    {
     "name": "stdout",
     "output_type": "stream",
     "text": [
      "Spin-2 Starmon-5 QX-34-L QX single-node simulator\n"
     ]
    }
   ],
   "source": [
    "# Make connection to the Quantum Inspire website.\n",
    "authentication = get_authentication()\n",
    "QI.set_authentication(authentication, QI_URL)\n",
    "\n",
    "# list backends\n",
    "print(*QI.backends())"
   ]
  },
  {
   "cell_type": "code",
   "execution_count": null,
   "id": "8d6e24c5-35fc-4e97-9b5a-7c1392528ce1",
   "metadata": {},
   "outputs": [],
   "source": [
    "# Execution\n",
    "qi_backend = QI.get_backend('QX single-node simulator')"
   ]
  },
  {
   "cell_type": "markdown",
   "id": "a765f140-52e6-456e-b765-c62fe0de6c73",
   "metadata": {},
   "source": [
    "The `qiskit.execute` function can use these backends for running quantum circuits"
   ]
  }
 ],
 "metadata": {
  "kernelspec": {
   "display_name": "Python 3 (ipykernel)",
   "language": "python",
   "name": "python3"
  },
  "language_info": {
   "codemirror_mode": {
    "name": "ipython",
    "version": 3
   },
   "file_extension": ".py",
   "mimetype": "text/x-python",
   "name": "python",
   "nbconvert_exporter": "python",
   "pygments_lexer": "ipython3",
   "version": "3.9.7"
  }
 },
 "nbformat": 4,
 "nbformat_minor": 5
}
