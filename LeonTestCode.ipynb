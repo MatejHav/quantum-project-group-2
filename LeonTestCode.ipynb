{
 "cells": [
  {
   "cell_type": "code",
   "execution_count": 1,
   "id": "ec0ebcb8-a441-4a43-9219-d66b43f9cadd",
   "metadata": {},
   "outputs": [],
   "source": [
    "# Some standard libraries\n",
    "import numpy as np\n",
    "import matplotlib.pyplot as plt\n",
    "from qutip import fock, Qobj\n",
    "\n",
    "# Libraries for creating, running and visualizing quantum circuits \n",
    "from qiskit import execute, QuantumCircuit, QuantumRegister, ClassicalRegister\n",
    "from qiskit import BasicAer\n",
    "from qiskit.circuit import Parameter\n",
    "from qiskit.compiler import transpile\n",
    "from qiskit.tools.visualization import plot_histogram\n",
    "from IPython.display import display, Math, clear_output\n",
    "\n",
    "# Libraries for using Quantum Inspire\n",
    "from quantuminspire.credentials import get_authentication\n",
    "from quantuminspire.api import QuantumInspireAPI\n",
    "from quantuminspire.qiskit import QI\n",
    "from os import getenv\n",
    "QI_URL = getenv('API_URL', 'https://api.quantum-inspire.com/')\n",
    "\n",
    "%run CircuitTesting.ipynb"
   ]
  },
  {
   "cell_type": "markdown",
   "id": "69cc3e34-d1cb-4083-b36a-28522da8dcca",
   "metadata": {},
   "source": [
    "<span style='color:yellow'> **Run on quantum inspire instead** </span>"
   ]
  },
  {
   "cell_type": "code",
   "execution_count": 2,
   "id": "4a938dce-4cce-4e1e-a6bc-aaae8ba270cb",
   "metadata": {},
   "outputs": [],
   "source": [
    "backend = BasicAer.get_backend('qasm_simulator')"
   ]
  },
  {
   "cell_type": "markdown",
   "id": "3a82b601-baa9-4722-8560-ef98928dacf3",
   "metadata": {
    "tags": []
   },
   "source": [
    "## Circuit"
   ]
  },
  {
   "cell_type": "code",
   "execution_count": 4,
   "id": "db645a30-cac4-4b9b-9437-39014f1cf287",
   "metadata": {},
   "outputs": [
    {
     "data": {
      "text/latex": [
       "$\\displaystyle -0+0.707107j\\left\\lvert 01\\right\\rangle -0-0.707107j\\left\\lvert 10\\right\\rangle $"
      ],
      "text/plain": [
       "<IPython.core.display.Math object>"
      ]
     },
     "metadata": {},
     "output_type": "display_data"
    },
    {
     "data": {
      "text/latex": [
       "$\\displaystyle -0+0.707107j\\left\\lvert 01\\right\\rangle +0+0.707107j\\left\\lvert 10\\right\\rangle $"
      ],
      "text/plain": [
       "<IPython.core.display.Math object>"
      ]
     },
     "metadata": {},
     "output_type": "display_data"
    },
    {
     "data": {
      "image/png": "[encoded data removed]",
      "text/plain": [
       "<Figure size 688.452x204.68 with 1 Axes>"
      ]
     },
     "metadata": {},
     "output_type": "display_data"
    }
   ],
   "source": [
    "# Initialsiation of circuit\n",
    "n = 2                        # number of qubits\n",
    "q = QuantumRegister(n,'q')   # quantum register of n qubits\n",
    "c = ClassicalRegister(n,'c') # classical register of 1 bit\n",
    "qc = QuantumCircuit(q,c)     # quantum circuit on register\n",
    "\n",
    "theta = Parameter('θ') # create a variable for the z-rotation gate\n",
    "\n",
    "# Gates\n",
    "def circuit(qc,q):\n",
    "    qc.x(q[0])             # initialise in |01>\n",
    "    qc.barrier(q)\n",
    "    \n",
    "    qc.rx(-3*np.pi/2,q[0]) #-X(pi/2) gate\n",
    "    qc.ry(np.pi/2,q[1])    # Y(pi/2) gate\n",
    "    qc.cnot(q[1],q[0])     # CNOT 1->0\n",
    "    qc.rz(theta,q[0])      # Z(theta) gate with theta suggested by classical optimizer\n",
    "    qc.cnot(q[1],q[0])     # CNOT 1->0\n",
    "    qc.ry(-3*np.pi/2,q[1]) #-Y(pi/2) gate\n",
    "    qc.rx(np.pi/2,q[0])    # X(pi/2) gate\n",
    "    qc.barrier(q)\n",
    "    \n",
    "# Apply gates to circuit\n",
    "circuit(qc,q)\n",
    "'''Temporary way to get phase classically (simulation, not possible on quantum hardware!)'''\n",
    "state_from_circuit(qc.bind_parameters({theta: np.pi/2}))\n",
    "state_from_circuit(qc.bind_parameters({theta: 3*np.pi/2}))\n",
    "qc.measure(q,c)\n",
    "\n",
    "# Draw circuit using output method matplotlib\n",
    "display(qc.draw(output='mpl'))"
   ]
  },
  {
   "cell_type": "markdown",
   "id": "c865a8fb-b243-42be-8976-9aadbc253d6f",
   "metadata": {},
   "source": [
    "#### Run circuit with range of $\\theta$'s"
   ]
  },
  {
   "cell_type": "code",
   "execution_count": 5,
   "id": "0ab39e0d-be6d-4c40-b704-546cae63d244",
   "metadata": {},
   "outputs": [],
   "source": [
    "number_of_theta_points = 100\n",
    "theta_range = np.linspace(0,2*np.pi,number_of_theta_points)\n",
    "circuits = [qc.bind_parameters({theta: theta_val}) for theta_val in theta_range]\n",
    "\n",
    "job = backend.run(transpile(circuits, backend))\n",
    "counts = job.result().get_counts()"
   ]
  },
  {
   "cell_type": "code",
   "execution_count": 6,
   "id": "323b0a25-e8f6-4b60-96c5-c08997a5050e",
   "metadata": {},
   "outputs": [
    {
     "data": {
      "image/png": "[encoded data removed]",
      "text/plain": [
       "<Figure size 648x432 with 1 Axes>"
      ]
     },
     "metadata": {},
     "output_type": "display_data"
    }
   ],
   "source": [
    "R = np.linspace(0,1,number_of_theta_points)\n",
    "G = np.zeros(number_of_theta_points)\n",
    "B = np.linspace(1,0,number_of_theta_points)\n",
    "cmap = [(r,g,b) for r,g,b in zip(R,G,B)]\n",
    "\n",
    "fig = plot_histogram(counts,figsize=(9,6),color=cmap,bar_labels=False)\n",
    "fig.patch.set_facecolor('white')\n",
    "display(fig)"
   ]
  },
  {
   "cell_type": "markdown",
   "id": "e5b6c09a-107f-4ab1-963d-ff375dbf40e9",
   "metadata": {
    "tags": []
   },
   "source": [
    "## Hamiltonian using Qiskit (PyQuante2 driver)"
   ]
  },
  {
   "cell_type": "markdown",
   "id": "d1708162-4b82-4e07-a023-f2dd84b74607",
   "metadata": {
    "tags": []
   },
   "source": [
    "#### Import modules"
   ]
  },
  {
   "cell_type": "markdown",
   "id": "56e20a4c-28e7-4a30-bb58-18d8561fd391",
   "metadata": {},
   "source": [
    "- `Molecule`: used to create a molecule instance storing all relevant data\n",
    "- `ElectronicStructureDriverType`: used to specify the driver used in calculations\n",
    "- `ElectronicStructureMoleculeDriver`: Molecule based electronic structure driver\n",
    "- `ElectronicStructureProblem`: generates electronic structure problem which we want to solve\n",
    "- `QubitConverter`: converts hamiltonian from second-quantized to qubit (spin) operators\n",
    "- `...Mapper`: used by `QubitConverter` to map fermionic operators to qubit operators\n",
    "\n",
    "- `settings.dict_aux_operators=True` sets `ElectronicStructureProblem` output to dict instead of list"
   ]
  },
  {
   "cell_type": "code",
   "execution_count": 7,
   "id": "bb14d763-de62-4a9a-a7fc-9364ca96586e",
   "metadata": {
    "tags": []
   },
   "outputs": [],
   "source": [
    "from qiskit_nature.drivers import Molecule\n",
    "from qiskit_nature.drivers.second_quantization import (\n",
    "    ElectronicStructureDriverType,\n",
    "    ElectronicStructureMoleculeDriver,\n",
    ")\n",
    "\n",
    "from qiskit_nature.problems.second_quantization import ElectronicStructureProblem\n",
    "from qiskit_nature.converters.second_quantization import QubitConverter\n",
    "from qiskit_nature.mappers.second_quantization import JordanWignerMapper, ParityMapper, BravyiKitaevMapper\n",
    "from qiskit_nature import settings\n",
    "settings.dict_aux_operators = True"
   ]
  },
  {
   "cell_type": "markdown",
   "id": "a3c56ceb-6418-4869-8a13-7e6bd6443818",
   "metadata": {
    "tags": []
   },
   "source": [
    "#### Create molecule and driver"
   ]
  },
  {
   "cell_type": "markdown",
   "id": "3a5fde7a-c0dc-4449-9f45-11a922889ab0",
   "metadata": {
    "tags": []
   },
   "source": [
    "The geometry of the hydrogen molecule is given as a linear array of 2 hydrogen atoms with a spacing on the z-axis of $0.7414$ Å ($=7.414\\cdot10^{-12}$ m). Hydrogen molecules are electrically neutral, so charge $Q=0$ C. Spin multiplicity is defined as $2S+1$, here we assume the singlet state with $S=0$*."
   ]
  },
  {
   "cell_type": "code",
   "execution_count": 8,
   "id": "2d2e9d16-d7c7-46df-bb00-4a40a61e902a",
   "metadata": {},
   "outputs": [],
   "source": [
    "R = 0.7414 # internuclear spacing we want to vary later, for now fixed\n",
    "\n",
    "molecule = Molecule(\n",
    "    geometry=[[\"H\", [0.0, 0.0, 0.0]], [\"H\", [0.0, 0.0, R]]], charge=0, multiplicity=1\n",
    ")\n",
    "driver = ElectronicStructureMoleculeDriver(\n",
    "    molecule, basis=\"sto3g\", driver_type=ElectronicStructureDriverType.PYQUANTE\n",
    ")"
   ]
  },
  {
   "cell_type": "markdown",
   "id": "8efaf545-d859-4c64-882f-a2626d2947df",
   "metadata": {
    "jp-MarkdownHeadingCollapsed": true,
    "tags": []
   },
   "source": [
    "###### The spin of a Hydrogen molecule consists of the nuclear spins of both protons ($s=1/2$). The electron spins cancle because they need to be opposite to create a covalent bond between the two atoms. The nuclear spins can be either aligned, forming a triplet state called orthohydrogen with $S=1$, or anti-aligned, forming a singlet state called parahydrogen with $S=0$. At room temperature hydrogen consists for about 25% of parahydrogen. parahydrogen is in a lower energy state than orthohydrogen and since we are searching for the ground state, we use this $S=0$ state."
   ]
  },
  {
   "cell_type": "markdown",
   "id": "666790ba-ec84-4442-826d-7aad57e332f4",
   "metadata": {
    "tags": []
   },
   "source": [
    "#### Create electronic structure problem and return second-quantized operators"
   ]
  },
  {
   "cell_type": "code",
   "execution_count": 9,
   "id": "cad4bac5-556e-4b41-a47a-bd8fbf1c63b4",
   "metadata": {},
   "outputs": [
    {
     "name": "stdout",
     "output_type": "stream",
     "text": [
      "Fermionic Operator\n",
      "register length=4, number terms=14\n",
      "  (0.18128881027902402+0j) * ( +_0 -_1 +_2 -_3 )\n",
      "+ (-0.181288810279024+0j) * ( +_0 -_1 -_2 +_3 )\n",
      "+ (-0.181288810279024+0j) * ( -_0 +_1 +_2 -_3 )\n",
      "+ (0.181288810279024+0j) * ( -_0 +_1 -_2 +_3 )\n",
      "+ (- ...\n"
     ]
    }
   ],
   "source": [
    "es_problem = ElectronicStructureProblem(driver)\n",
    "second_q_op = es_problem.second_q_ops()\n",
    "print(second_q_op['ElectronicEnergy'])"
   ]
  },
  {
   "cell_type": "markdown",
   "id": "b96eb565-17c1-4203-a9e7-284dbc7e64a2",
   "metadata": {
    "tags": []
   },
   "source": [
    "#### Convert second-quantized to spin/qubit operators using Jordan Wigner transformation"
   ]
  },
  {
   "cell_type": "raw",
   "id": "076df674-4d27-49b8-8486-0bf04b8278da",
   "metadata": {},
   "source": [
    "qubit_converter = QubitConverter(mapper=JordanWignerMapper(), two_qubit_reduction=True)\n",
    "qubit_op = qubit_converter.convert(second_q_op['ElectronicEnergy'])\n",
    "print(qubit_op)"
   ]
  },
  {
   "cell_type": "markdown",
   "id": "59972ad1-5520-491a-a3d7-49b7c092f035",
   "metadata": {
    "tags": []
   },
   "source": [
    "#### Convert second-quantized to spin/qubit operators using Bravyi-Kitaev transformation"
   ]
  },
  {
   "cell_type": "raw",
   "id": "d4a7e93b-e6f4-4c3e-a0d0-24d524deca51",
   "metadata": {},
   "source": [
    "qubit_converter = QubitConverter(mapper=BravyiKitaevMapper(), two_qubit_reduction=True)\n",
    "qubit_op = qubit_converter.convert(second_q_op['ElectronicEnergy'])\n",
    "print(qubit_op)"
   ]
  },
  {
   "cell_type": "markdown",
   "id": "b4040ba9-f156-49f6-a0bd-2cb1d6624d38",
   "metadata": {
    "tags": []
   },
   "source": [
    "#### Convert second-quantized to spin/qubit operators using Parity mapper, which uses known symmetries to reduce the problem to 2 qubits"
   ]
  },
  {
   "cell_type": "code",
   "execution_count": 10,
   "id": "ec6c3e0b-ac08-4208-8765-9a797725a7e5",
   "metadata": {},
   "outputs": [
    {
     "name": "stdout",
     "output_type": "stream",
     "text": [
      "-1.0537076260718947 * II\n",
      "+ (-0.39398369592323595-1.3877787807814457e-17j) * ZI\n",
      "+ (0.3939836959232358-4.163336342344337e-17j) * IZ\n",
      "- 0.011236587537901799 * ZZ\n",
      "+ 0.18128881027902394 * XX\n"
     ]
    }
   ],
   "source": [
    "qubit_converter = QubitConverter(mapper=ParityMapper(), two_qubit_reduction=True)\n",
    "qubit_op = qubit_converter.convert(second_q_op['ElectronicEnergy'], num_particles=es_problem.num_particles)\n",
    "print(qubit_op)"
   ]
  },
  {
   "cell_type": "markdown",
   "id": "07a642ac-e7c8-4efe-9597-1d4b02575601",
   "metadata": {},
   "source": [
    "<span style='color:yellow'> **Should be real values, however, the imaginary parts are an order $10^{17}$ smaller than the real parts. We thus can assume these are artifacts from imperfect numerical calculations** </span>"
   ]
  },
  {
   "cell_type": "code",
   "execution_count": 42,
   "id": "2a305287-f9b2-4e35-9eb0-891b935c273b",
   "metadata": {},
   "outputs": [
    {
     "data": {
      "text/plain": [
       "{'II': (-1.0537076260718947+0j),\n",
       " 'ZI': (-0.39398369592323595-1.3877787807814457e-17j),\n",
       " 'IZ': (0.3939836959232358-4.163336342344337e-17j),\n",
       " 'ZZ': (-0.011236587537901799+0j),\n",
       " 'XX': (0.18128881027902394+0j)}"
      ]
     },
     "execution_count": 42,
     "metadata": {},
     "output_type": "execute_result"
    }
   ],
   "source": [
    "Hamiltonian = dict(qubit_op.primitive.to_list())\n",
    "Hamiltonian"
   ]
  },
  {
   "cell_type": "markdown",
   "id": "e02f240e-4e3e-4d65-b63d-e6c0334c9b54",
   "metadata": {
    "tags": []
   },
   "source": [
    "## Expectation values $\\langle H(\\theta) \\rangle$"
   ]
  },
  {
   "cell_type": "code",
   "execution_count": 12,
   "id": "df2dd91e-bf46-4ace-8723-4b3cc2d2c056",
   "metadata": {
    "tags": []
   },
   "outputs": [],
   "source": [
    "def state_from_counts(counts,number_of_qubits=2):\n",
    "    \"\"\"Returns a state estimate without phase consideration using measurment counts\"\"\"\n",
    "    state = 0\n",
    "    \n",
    "    N = 2**number_of_qubits\n",
    "    for i in range(0,N):\n",
    "        try:\n",
    "            state += np.sqrt(counts[format(i, f\"0{number_of_qubits}b\")]) * fock(N,i)\n",
    "        except:\n",
    "            pass\n",
    "    \n",
    "    return state.unit()\n",
    "        \n",
    "states = [state_from_counts(count) for count in counts]"
   ]
  },
  {
   "cell_type": "markdown",
   "id": "5edb80b3-0374-4006-9a77-8a33f6c51fd8",
   "metadata": {},
   "source": [
    "#### $\\langle ZI \\rangle$, $\\langle IZ \\rangle$, $\\langle XX \\rangle$, $\\langle YY \\rangle$, $\\langle ZZ \\rangle$"
   ]
  },
  {
   "cell_type": "code",
   "execution_count": 52,
   "id": "f14cc8a5-2423-4031-adcd-741475997751",
   "metadata": {},
   "outputs": [],
   "source": [
    "X = Qobj([[0,1],[1,0]])\n",
    "Y = Qobj([[0,-1j],[1j,0]])\n",
    "Z = Qobj([[1,0],[0,-1]])\n",
    "I = Qobj([[1,0],[0,1]])\n",
    "\n",
    "def expct(state,operator):\n",
    "    \"\"\"Calculate expectation value of `operator` for a system in `state`\"\"\"\n",
    "    return float(np.real(state.dag()*operator*state))\n",
    "\n",
    "expectation_values = {'ZI':np.zeros(number_of_theta_points), \n",
    "                      'IZ':np.zeros(number_of_theta_points),\n",
    "                      'XX':np.zeros(number_of_theta_points),\n",
    "                      'YY':np.zeros(number_of_theta_points),\n",
    "                      'ZZ':np.zeros(number_of_theta_points),\n",
    "                      'II':np.ones(number_of_theta_points),\n",
    "                      'H':0}\n",
    "for i,state in enumerate(states):\n",
    "    expectation_values['IZ'][i] = expct(state,np.kron(I,Z))\n",
    "    expectation_values['ZI'][i] = expct(state,np.kron(Z,I))\n",
    "    expectation_values['XX'][i] = expct(state,np.kron(X,X))\n",
    "    expectation_values['YY'][i] = expct(state,np.kron(Y,Y))\n",
    "    expectation_values['ZZ'][i] = expct(state,np.kron(Z,Z))\n",
    "    \n",
    "\"\"\"Temporary manual correction for phase\"\"\"\n",
    "expectation_values['XX'][:number_of_theta_points//2] = -expectation_values['XX'][:number_of_theta_points//2]\n",
    "expectation_values['YY'][:number_of_theta_points//2] = -expectation_values['YY'][:number_of_theta_points//2]"
   ]
  },
  {
   "cell_type": "code",
   "execution_count": 49,
   "id": "54c0e3b3-e8a5-410e-8831-bd3fd08167ed",
   "metadata": {},
   "outputs": [
    {
     "data": {
      "image/png": "[encoded data removed]",
      "text/plain": [
       "<Figure size 432x288 with 1 Axes>"
      ]
     },
     "metadata": {
      "needs_background": "light"
     },
     "output_type": "display_data"
    }
   ],
   "source": [
    "plt.figure()\n",
    "plt.xlabel(r'$\\theta$ ($\\pi$ rad)')\n",
    "plt.ylabel('Expectation values')\n",
    "plt.plot(theta_range/np.pi,expectation_values['ZI'],label=r'$\\langle ZI \\rangle$',c='C0')\n",
    "plt.plot(theta_range/np.pi,expectation_values['IZ'],label=r'$\\langle IZ \\rangle$',c='C3')\n",
    "plt.plot(theta_range/np.pi,expectation_values['ZZ'],label=r'$\\langle ZZ \\rangle$',c='C2')\n",
    "plt.plot(theta_range/np.pi,expectation_values['XX'],label=r'$\\langle XX \\rangle$',c='C1')\n",
    "plt.plot(theta_range/np.pi,expectation_values['YY'],label=r'$\\langle YY \\rangle$',c='C4',ls='-.')\n",
    "plt.ylim(-1.1,1.4)\n",
    "plt.legend(loc='upper center',ncol=5,frameon=False)\n",
    "plt.show()"
   ]
  },
  {
   "cell_type": "markdown",
   "id": "3eae5009-2f67-4b4f-b405-a431bd45946f",
   "metadata": {},
   "source": [
    "#### $\\langle H \\rangle$"
   ]
  },
  {
   "cell_type": "code",
   "execution_count": 54,
   "id": "e0d1aa28-5268-46db-a7cc-89660094b346",
   "metadata": {},
   "outputs": [],
   "source": [
    "for key in expectation_values:\n",
    "    try:\n",
    "        expectation_values['H'] += Hamiltonian[key]*expectation_values[key]\n",
    "    except:\n",
    "        pass"
   ]
  },
  {
   "cell_type": "code",
   "execution_count": null,
   "id": "8d919c02-8585-455f-9e91-63b02a386eb8",
   "metadata": {},
   "outputs": [
    {
     "data": {
      "image/png": "[encoded data removed]",
      "text/plain": [
       "<Figure size 432x288 with 1 Axes>"
      ]
     },
     "metadata": {
      "needs_background": "light"
     },
     "output_type": "display_data"
    }
   ],
   "source": [
    "plt.figure()\n",
    "plt.xlabel(r'$\\theta$ ($\\pi$ rad)')\n",
    "plt.ylabel(r'$\\langle H \\rangle$')\n",
    "plt.plot(theta_range/np.pi,np.real(expectation_values['H']))\n",
    "plt.show()"
   ]
  },
  {
   "cell_type": "markdown",
   "id": "cb4a3637-12ce-4a5c-85ff-9c1be43709e6",
   "metadata": {
    "tags": []
   },
   "source": [
    "## Expectation values $\\langle H(\\theta,R) \\rangle$"
   ]
  },
  {
   "cell_type": "code",
   "execution_count": 79,
   "id": "7354261c-4383-468a-a984-144796265354",
   "metadata": {},
   "outputs": [],
   "source": [
    "from functools import partial\n",
    "from qiskit.utils import QuantumInstance\n",
    "from qiskit import Aer\n",
    "from qiskit.algorithms import NumPyMinimumEigensolver, VQE\n",
    "from qiskit_nature.algorithms import GroundStateEigensolver\n",
    "from qiskit_nature.algorithms.pes_samplers import BOPESSampler"
   ]
  },
  {
   "cell_type": "markdown",
   "id": "a6fad476-01fb-40c9-ad7a-bb8b366971ca",
   "metadata": {},
   "source": [
    "#### Principles"
   ]
  },
  {
   "cell_type": "code",
   "execution_count": null,
   "id": "206d7936-0c1f-4c2a-b05d-2dfd36e669c7",
   "metadata": {},
   "outputs": [],
   "source": [
    "stretch1 = partial(Molecule.absolute_stretching, atom_pair=(1, 0))\n",
    "molecule = Molecule(\n",
    "    geometry=[(\"H\", [0.0, 0.0, 0.0]), (\"H\", [0.0, 0.0, 0.4])],\n",
    "    degrees_of_freedom=[stretch1]\n",
    ")\n",
    "\n",
    "driver = ElectronicStructureMoleculeDriver(\n",
    "    molecule, basis=\"sto3g\", driver_type=ElectronicStructureDriverType.PYQUANTE\n",
    ")"
   ]
  },
  {
   "cell_type": "code",
   "execution_count": 67,
   "id": "413c65fe-0ab9-40f0-a065-0adcbcfecfea",
   "metadata": {},
   "outputs": [
    {
     "name": "stdout",
     "output_type": "stream",
     "text": [
      "[('H', [0.0, 0.0, 0.0]), ('H', [0.0, 0.0, 0.6000000000000001])]\n",
      "[('H', [0.0, 0.0, 0.0]), ('H', [0.0, 0.0, 1.0])]\n",
      "[('H', [0.0, 0.0, 0.0]), ('H', [0.0, 0.0, 0.4])]\n"
     ]
    }
   ],
   "source": [
    "molecule.perturbations = [0.2]\n",
    "print(molecule.geometry)\n",
    "\n",
    "molecule.perturbations = [0.6]\n",
    "print(molecule.geometry)\n",
    "\n",
    "molecule.perturbations = [0.0]\n",
    "print(molecule.geometry)"
   ]
  },
  {
   "cell_type": "markdown",
   "id": "74b760d9-7c87-40b3-a6e4-333578a0e66f",
   "metadata": {},
   "source": [
    "#### Sampler (exact copy of [qiskit-nature tutorials](https://qiskit.org/documentation/nature/tutorials/05_Sampling_potential_energy_surfaces.html))"
   ]
  },
  {
   "cell_type": "code",
   "execution_count": 76,
   "id": "576ca75a-4d0b-456c-8e08-fd3121ee9db9",
   "metadata": {},
   "outputs": [],
   "source": [
    "qubit_converter = QubitConverter(JordanWignerMapper())\n",
    "quantum_instance = QuantumInstance(backend=Aer.get_backend(\"aer_simulator_statevector\"))\n",
    "solver = VQE(quantum_instance=quantum_instance)\n",
    "\n",
    "me_gsc = GroundStateEigensolver(qubit_converter, solver)"
   ]
  },
  {
   "cell_type": "code",
   "execution_count": 84,
   "id": "75aec8a6-e096-4e9e-9242-915ce4a01cd3",
   "metadata": {},
   "outputs": [],
   "source": [
    "distance1 = partial(Molecule.absolute_distance, atom_pair=(1, 0))\n",
    "molecule = Molecule(\n",
    "    geometry=[(\"H\", [0.0, 0.0, 0.0]), (\"H\", [0.0, 0.0, 0.3])],\n",
    "    degrees_of_freedom=[distance1],\n",
    ")\n",
    "\n",
    "# pass molecule to PyQuante2 driver\n",
    "driver = ElectronicStructureMoleculeDriver(molecule, driver_type=ElectronicStructureDriverType.PYQUANTE)\n",
    "\n",
    "es_problem = ElectronicStructureProblem(driver)\n",
    "\n",
    "\n",
    "# Specify degree of freedom (points of interest)\n",
    "points = np.linspace(0.4, 3, 30)\n",
    "results_full = {}  # full dictionary of results for each condition\n",
    "results = {}  # dictionary of (point,energy) results for each condition\n",
    "conditions = {False: \"no bootstrapping\", True: \"bootstrapping\"}"
   ]
  },
  {
   "cell_type": "code",
   "execution_count": 88,
   "id": "3e27309e-f509-4e2e-8ffc-fb6f0e90f75a",
   "metadata": {},
   "outputs": [],
   "source": [
    "for value, bootstrap in conditions.items():\n",
    "    # define instance to sampler\n",
    "    bs = BOPESSampler(gss=me_gsc, bootstrap=value, num_bootstrap=None, extrapolator=None)\n",
    "    \n",
    "    # execute\n",
    "    res = bs.sample(es_problem, points)\n",
    "    \n",
    "    results_full[f\"{bootstrap}\"] = res.raw_results\n",
    "    results[f\"points_{bootstrap}\"] = res.points\n",
    "    results[f\"energies_{bootstrap}\"] = res.energies\n"
   ]
  },
  {
   "cell_type": "code",
   "execution_count": 90,
   "id": "dd142fee-f6bd-45d3-93ec-983317a632e3",
   "metadata": {},
   "outputs": [],
   "source": [
    "# define numpy solver\n",
    "solver_numpy = NumPyMinimumEigensolver()\n",
    "me_gsc_numpy = GroundStateEigensolver(qubit_converter, solver_numpy)\n",
    "bs_classical = BOPESSampler(\n",
    "    gss=me_gsc_numpy, bootstrap=False, num_bootstrap=None, extrapolator=None\n",
    ")\n",
    "# execute\n",
    "res_np = bs_classical.sample(es_problem, points)\n",
    "results_full[\"np\"] = res_np.raw_results\n",
    "results[\"points_np\"] = res_np.points\n",
    "results[\"energies_np\"] = res_np.energies"
   ]
  },
  {
   "cell_type": "code",
   "execution_count": 91,
   "id": "9c9841fc-087c-41bc-b57a-b1112ae0d084",
   "metadata": {},
   "outputs": [
    {
     "data": {
      "text/plain": [
       "Text(0, 0.5, 'Energy')"
      ]
     },
     "execution_count": 91,
     "metadata": {},
     "output_type": "execute_result"
    },
    {
     "data": {
      "image/png": "[encoded data removed]",
      "text/plain": [
       "<Figure size 432x288 with 1 Axes>"
      ]
     },
     "metadata": {
      "needs_background": "light"
     },
     "output_type": "display_data"
    }
   ],
   "source": [
    "fig = plt.figure()\n",
    "for value, bootstrap in conditions.items():\n",
    "    plt.plot(results[f\"points_{bootstrap}\"], results[f\"energies_{bootstrap}\"], label=f\"{bootstrap}\")\n",
    "plt.plot(results[\"points_np\"], results[\"energies_np\"], label=\"numpy\")\n",
    "plt.legend()\n",
    "plt.title(\"Dissociation profile\")\n",
    "plt.xlabel(\"Interatomic distance\")\n",
    "plt.ylabel(\"Energy\")"
   ]
  },
  {
   "cell_type": "markdown",
   "id": "4c6673f3-9164-41a7-9a09-833671ca5ed5",
   "metadata": {
    "jp-MarkdownHeadingCollapsed": true,
    "tags": []
   },
   "source": [
    "## Ground state solver using VQE (exact copy of [qiskit-nature tutorials](https://qiskit.org/documentation/nature/tutorials/03_ground_state_solvers.html), idk what it does or how yet)"
   ]
  },
  {
   "cell_type": "markdown",
   "id": "ee55080d-560d-49e4-8e51-b58882656b99",
   "metadata": {},
   "source": [
    "#### Initialise VQE"
   ]
  },
  {
   "cell_type": "code",
   "execution_count": 14,
   "id": "b2631dd8-c264-455e-a3ae-3131f0cbf1a7",
   "metadata": {},
   "outputs": [],
   "source": [
    "from qiskit.providers.aer import StatevectorSimulator\n",
    "from qiskit import Aer\n",
    "from qiskit.utils import QuantumInstance\n",
    "from qiskit_nature.algorithms import VQEUCCFactory\n",
    "\n",
    "quantum_instance = QuantumInstance(backend=Aer.get_backend(\"aer_simulator_statevector\"))\n",
    "vqe_solver = VQEUCCFactory(quantum_instance)"
   ]
  },
  {
   "cell_type": "markdown",
   "id": "77af62c4-83d8-4f01-8cea-4a9c187a7b81",
   "metadata": {
    "jp-MarkdownHeadingCollapsed": true,
    "tags": []
   },
   "source": [
    "#### Define VQE"
   ]
  },
  {
   "cell_type": "code",
   "execution_count": 15,
   "id": "e348a197-5729-43cb-b8d6-3cc72032bad1",
   "metadata": {
    "tags": []
   },
   "outputs": [],
   "source": [
    "from qiskit.algorithms import VQE\n",
    "from qiskit.circuit.library import TwoLocal\n",
    "\n",
    "tl_circuit = TwoLocal(\n",
    "    rotation_blocks=[\"h\", \"rx\"],\n",
    "    entanglement_blocks=\"cz\",\n",
    "    entanglement=\"full\",\n",
    "    reps=2,\n",
    "    parameter_prefix=\"y\",\n",
    ")\n",
    "\n",
    "another_solver = VQE(\n",
    "    ansatz=tl_circuit,\n",
    "    quantum_instance=QuantumInstance(Aer.get_backend(\"aer_simulator_statevector\")),\n",
    ")"
   ]
  },
  {
   "cell_type": "markdown",
   "id": "dbfadb07-aa0e-4520-bc5d-ab1dc9d32944",
   "metadata": {},
   "source": [
    "#### Run calculation"
   ]
  },
  {
   "cell_type": "code",
   "execution_count": 16,
   "id": "27a2be66-ed25-48ca-b511-a6879b3f5b0d",
   "metadata": {},
   "outputs": [
    {
     "name": "stdout",
     "output_type": "stream",
     "text": [
      "=== GROUND STATE ENERGY ===\n",
      " \n",
      "* Electronic ground state energy (Hartree): -1.851024217522\n",
      "  - computed part:      -1.851024217522\n",
      "~ Nuclear repulsion energy (Hartree): 0.71375404505\n",
      "> Total ground state energy (Hartree): -1.137270172472\n",
      " \n",
      "=== MEASURED OBSERVABLES ===\n",
      " \n",
      "  0:  # Particles: 2.000 S: 0.000 S^2: 0.000 M: 0.000\n"
     ]
    }
   ],
   "source": [
    "from qiskit_nature.algorithms import GroundStateEigensolver\n",
    "\n",
    "calc = GroundStateEigensolver(qubit_converter, vqe_solver)\n",
    "res = calc.solve(es_problem)\n",
    "\n",
    "print(res)"
   ]
  },
  {
   "cell_type": "markdown",
   "id": "38da9345-0a71-4bd1-9903-7956f9b1b09c",
   "metadata": {},
   "source": [
    "#### Compare exact result with VQE"
   ]
  },
  {
   "cell_type": "markdown",
   "id": "deca858f-e983-4575-8403-f9f1c79ce1df",
   "metadata": {},
   "source": [
    "The NumPy minimum eigensolver: this algorithm **exactly** diagonalizes the Hamiltonian. Although it scales badly, it can be used on small systems to check the results of the quantum algorithms."
   ]
  },
  {
   "cell_type": "code",
   "execution_count": 17,
   "id": "01f25c7e-cc56-4024-a114-00b253afc11a",
   "metadata": {},
   "outputs": [],
   "source": [
    "from qiskit.algorithms import NumPyMinimumEigensolver\n",
    "\n",
    "numpy_solver = NumPyMinimumEigensolver()\n",
    "calc = GroundStateEigensolver(qubit_converter, numpy_solver)\n",
    "res = calc.solve(es_problem)"
   ]
  },
  {
   "cell_type": "code",
   "execution_count": 18,
   "id": "a8822707-76fd-4d5c-87af-5a2358a01f90",
   "metadata": {},
   "outputs": [
    {
     "name": "stdout",
     "output_type": "stream",
     "text": [
      "-1.8510242175801919 Ha = -50.368934935256036 eV\n"
     ]
    }
   ],
   "source": [
    "print(f'{res.computed_energies[0]} Ha = {res.computed_energies[0]*27.21138624599} eV')"
   ]
  }
 ],
 "metadata": {
  "kernelspec": {
   "display_name": "Python 3 (ipykernel)",
   "language": "python",
   "name": "python3"
  },
  "language_info": {
   "codemirror_mode": {
    "name": "ipython",
    "version": 3
   },
   "file_extension": ".py",
   "mimetype": "text/x-python",
   "name": "python",
   "nbconvert_exporter": "python",
   "pygments_lexer": "ipython3",
   "version": "3.9.7"
  }
 },
 "nbformat": 4,
 "nbformat_minor": 5
}
